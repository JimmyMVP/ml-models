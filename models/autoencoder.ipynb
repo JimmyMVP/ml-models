{
 "cells": [
  {
   "cell_type": "code",
   "execution_count": 7,
   "metadata": {
    "collapsed": true
   },
   "outputs": [],
   "source": [
    "import tensorflow as tf\n",
    "import numpy as np"
   ]
  },
  {
   "cell_type": "code",
   "execution_count": 8,
   "metadata": {
    "collapsed": true
   },
   "outputs": [],
   "source": [
    "#Artificial dataset, lets say XOR\n",
    "def xor():\n",
    "    X = np.array([[0,1], [1,0], [1,1],[0,0]], dtype=float)\n",
    "    Y = np.array([1,1,0,0], dtype=float).reshape((-1,1))\n",
    "    return X,Y\n",
    "\n",
    "def square_function():\n",
    "    X = []\n",
    "    Y = []\n",
    "    for x in range(10):\n",
    "        X.append(x)\n",
    "        Y.append(x**2)\n",
    "    return np.array(X,dtype=np.float32).reshape(-1,1),np.array(Y, dtype=np.float32).reshape(-1,1)\n",
    "\n"
   ]
  },
  {
   "cell_type": "markdown",
   "metadata": {},
   "source": [
    "# Simple autoencoder\n",
    "\n",
    "So basically the only thing that is changing is the loss function, we want to get the same output as the input. This can be used to reduce the dimensionality of the input (encoding) with hidden layers, then we get the input back by decoding later, this is what the network is training."
   ]
  },
  {
   "cell_type": "code",
   "execution_count": 9,
   "metadata": {
    "collapsed": false
   },
   "outputs": [
    {
     "name": "stdout",
     "output_type": "stream",
     "text": [
      "(?, 20)\n",
      "(?, 20)\n",
      "(?, 20)\n",
      "(?, 1)\n"
     ]
    }
   ],
   "source": [
    "#input\n",
    "\n",
    "X,Y = square_function()\n",
    "\n",
    "batch_size = 10\n",
    "\n",
    "#Helper functions\n",
    "def fully_connected(x, size, activation=tf.nn.relu):\n",
    "    b = tf.Variable(tf.zeros([size]))\n",
    "    weights = tf.Variable(tf.truncated_normal([x.get_shape()[1].value, size]))\n",
    "    return activation(b + tf.matmul(x, weights))\n",
    "\n",
    "\n",
    "\n",
    "INPUT_SHAPE = X.shape\n",
    "\n",
    "x = tf.placeholder(\"float\", [None,1])\n",
    "y = tf.placeholder(\"float\", [None,1])\n",
    "\n",
    "#simple neural network to solve the xor problem\n",
    "\n",
    "h1 = fully_connected(x, 20, activation=tf.nn.tanh)\n",
    "print(h1.get_shape())\n",
    "\n",
    "h2 = fully_connected(h1, 20)\n",
    "print(h2.get_shape())\n",
    "\n",
    "h3 = fully_connected(h2, 20)\n",
    "print(h2.get_shape())\n",
    "\n",
    "out = fully_connected(tf.nn.dropout(h2, 0.5), 1)\n",
    "print(out.get_shape())\n",
    "\n",
    "loss = tf.reduce_mean((out-x)**2)\n",
    "tf.scalar_summary(\"loss\", loss)\n",
    "\n",
    "\n",
    "optimizer = tf.train.AdamOptimizer(0.1)\n",
    "train_step = optimizer.minimize(loss)\n",
    "\n"
   ]
  },
  {
   "cell_type": "markdown",
   "metadata": {},
   "source": [
    "# Run the session"
   ]
  },
  {
   "cell_type": "code",
   "execution_count": 10,
   "metadata": {
    "collapsed": false
   },
   "outputs": [
    {
     "name": "stdout",
     "output_type": "stream",
     "text": [
      "0. Epoch Loss: 16.9888 \n",
      "40. Epoch Loss: 6.8400 \n",
      "80. Epoch Loss: 6.1811 \n",
      "120. Epoch Loss: 6.0960 \n",
      "160. Epoch Loss: 2.6659 \n",
      "200. Epoch Loss: 0.5074 \n",
      "240. Epoch Loss: 0.6058 \n",
      "280. Epoch Loss: 1.7008 \n",
      "320. Epoch Loss: 1.4746 \n",
      "360. Epoch Loss: 2.0308 \n",
      "400. Epoch Loss: 1.4831 \n",
      "440. Epoch Loss: 1.9276 \n",
      "480. Epoch Loss: 3.1667 \n",
      "520. Epoch Loss: 0.9435 \n",
      "560. Epoch Loss: 1.9251 \n",
      "600. Epoch Loss: 0.8479 \n",
      "640. Epoch Loss: 1.7329 \n",
      "680. Epoch Loss: 0.7715 \n",
      "720. Epoch Loss: 1.4999 \n",
      "760. Epoch Loss: 1.4522 \n",
      "800. Epoch Loss: 2.0901 \n",
      "840. Epoch Loss: 0.6398 \n",
      "880. Epoch Loss: 2.6346 \n",
      "920. Epoch Loss: 1.6160 \n",
      "960. Epoch Loss: 3.0815 \n"
     ]
    }
   ],
   "source": [
    "init =  tf.initialize_all_variables()\n",
    "\n",
    "num_epochs=1000\n",
    "#merge = tf.merge_all_summaries()\n",
    "\n",
    "with tf.Session() as sess:\n",
    "    \n",
    "    writer = tf.train.SummaryWriter(\"./summary\", sess.graph)\n",
    "    sess.run(init)\n",
    "    #sess.run(merge)\n",
    "\n",
    "    for epoch in range(num_epochs):\n",
    "        for batch in range(X.shape[0]//batch_size):\n",
    "            feed_dict = {\n",
    "                x : X[batch*batch_size:batch*batch_size + batch_size],\n",
    "                y : Y[batch*batch_size:batch*batch_size+batch_size]\n",
    "            }\n",
    "            _, lossVal = sess.run([train_step, loss], feed_dict=feed_dict)\n",
    "        #writer.add_summary(merged, epoch)\n",
    "        if(epoch%40 == 0):\n",
    "            print(\"%d. Epoch Loss: %.4f \"  %(epoch, lossVal))\n",
    "        correct_prediction = tf.equal(tf.argmax(out, 1), tf.argmax(y, 1))\n",
    "        accuracy = tf.reduce_mean(tf.cast(correct_prediction, \"float\"))\n",
    "        \n",
    "        "
   ]
  }
 ],
 "metadata": {
  "kernelspec": {
   "display_name": "Python 3",
   "language": "python",
   "name": "python3"
  },
  "language_info": {
   "codemirror_mode": {
    "name": "ipython",
    "version": 3
   },
   "file_extension": ".py",
   "mimetype": "text/x-python",
   "name": "python",
   "nbconvert_exporter": "python",
   "pygments_lexer": "ipython3",
   "version": "3.5.2"
  }
 },
 "nbformat": 4,
 "nbformat_minor": 1
}
