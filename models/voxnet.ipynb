{
 "cells": [
  {
   "cell_type": "code",
   "execution_count": 1,
   "metadata": {
    "collapsed": false
   },
   "outputs": [],
   "source": [
    "import tensorflow as tf\n",
    "import numpy as np\n",
    "from utils.utils import voxel_grid\n",
    "import os\n",
    "from sklearn.preprocessing import LabelBinarizer, OneHotEncoder\n",
    "\n"
   ]
  },
  {
   "cell_type": "code",
   "execution_count": 2,
   "metadata": {
    "collapsed": false
   },
   "outputs": [],
   "source": [
    "#Parameters\n",
    "\n",
    "RES = (64,64,64)\n",
    "BATCH_SIZE = 12\n",
    "\n",
    "\n",
    "#Helper functions (layer creation)\n",
    "\n",
    "\"\"\"\n",
    "    Default stride size is filterSize, which means no overlapping.\n",
    "\"\"\"\n",
    "def conv3d(x, numFilters, filterSize, stride=False, padding='VALID'):\n",
    "    if(not stride):\n",
    "        stride = filterSize\n",
    "    inChannels = x.get_shape()[-1].value\n",
    "    with tf.name_scope(\"conv\"):\n",
    "        #The filter weights must be of the form (width, height, depth, channels, outputChannels[numberOfFilters])\n",
    "        filter=tf.Variable(tf.truncated_normal(shape=[3,3,3,inChannels,numFilters], dtype=tf.float32))\n",
    "        return tf.nn.conv3d(input=x, filter=filter, \\\n",
    "                            strides=[1,stride,stride,stride,1], padding=padding)\n",
    "\n",
    "\n",
    "def flatten(x):\n",
    "    return tf.reshape(x, [-1, np.prod(x.get_shape().as_list()[1:])])\n",
    "\n",
    "def fully_connected(x, size, activation=tf.nn.relu):\n",
    "    with tf.name_scope(\"fully_connected\"):\n",
    "        b = tf.Variable(tf.zeros([size]))\n",
    "        weights = tf.Variable(tf.truncated_normal([x.get_shape()[1].value, size]))\n",
    "        return activation(b + tf.matmul(x, weights))\n",
    "\n",
    "\n",
    "#Helper functions batch reading\n",
    "\n",
    "object_csvs = list(filter(lambda x: \".csv\" in x, os.listdir(\"../dataset/objects\")))\n",
    "labels = np.array(list(map(lambda x: x.split(\".\")[0], object_csvs)))\n",
    "labels = labels.reshape((-1,1))\n",
    "\n",
    "le = LabelBinarizer(sparse_output=False)\n",
    "\n",
    "labels = le.fit_transform(labels).reshape(-1,26)\n",
    "def get_batch(size=BATCH_SIZE, ind=0):\n",
    "    \n",
    "    mini_batch_x = []\n",
    "    mini_batch_y = []\n",
    "    for i in range(size):\n",
    "        obj = voxel_grid(np.genfromtxt(\"../dataset/objects/\"+object_csvs[ind+i], delimiter=\",\")[:,3:6], res=RES)\n",
    "        mini_batch_x.append(obj[:,:,:,None])\n",
    "        #mini_batch_x[i].append(object_csvs[ind+i].split(\".\")[0])\n",
    "        #write code for labels\n",
    "    \n",
    "    \n",
    "    return (np.array(mini_batch_x), labels[ind:ind+size])\n"
   ]
  },
  {
   "cell_type": "code",
   "execution_count": 4,
   "metadata": {
    "collapsed": false
   },
   "outputs": [
    {
     "name": "stdout",
     "output_type": "stream",
     "text": [
      "(?, 64, 64, 64, 1)\n",
      "(?, 26)\n",
      "(?, 15, 15, 15, 3)\n",
      "(?, 10125)\n",
      "(?, 26)\n"
     ]
    }
   ],
   "source": [
    "#Build model\n",
    "\n",
    "\n",
    "#Architecture\n",
    "\n",
    "\n",
    "x = tf.placeholder(shape=[None,RES[0], RES[1], RES[2],1], dtype=tf.float32, name=\"Input\")\n",
    "y = tf.placeholder(shape=[None, labels[0].size], dtype=tf.float32, name=\"Labels\")\n",
    "\n",
    "\n",
    "batch_size = tf.shape(x)[0] \n",
    "\n",
    "print(\"Input shape: \", x.get_shape())\n",
    "print(\"Labels shape: \", y.get_shape())\n",
    "\n",
    "conv1 = conv3d(x, 3,3,2)\n",
    "print(\"Conv1: \", conv1.get_shape())\n",
    "\n",
    "maxpool1 = pool3d(x,3,3)\n",
    "print(\"Pool1: \", maxpool1.get_shape())\n",
    "\n",
    "conv2 = conv3d(maxpool1, 3,3,2)\n",
    "print(\"Conv2: \", conv2.get_shape())\n",
    "\n",
    "maxpool2 = pool3d(conv2,3,3)\n",
    "print(\"Pool2: \", maxpool2.get_shape())\n",
    "\n",
    "\n",
    "flat = flatten(maxpool2)\n",
    "print(\"Flatten layer: \", flat.get_shape())\n",
    "output = fully_connected(flat, 26)\n",
    "\n",
    "print(\"Output shape: \", output.get_shape())\n",
    "\n",
    "#Loss\n",
    "vars = tf.trainable_variables()\n",
    "lossL2 = tf.add_n([tf.nn.l2_loss(v) for v in vars])*0.01\n",
    "loss = tf.reduce_mean(tf.nn.softmax_cross_entropy_with_logits(output, y)) + lossL2\n",
    "\n",
    "print(\"Loss shape: \", loss.get_shape())\n",
    "\n",
    "#Training\n",
    "optimizer = tf.train.AdamOptimizer(0.04)\n",
    "train_step = optimizer.minimize(loss)\n",
    "\n",
    "accuracy = tf.reduce_mean(tf.cast(tf.equal(tf.round(output), y), tf.float32))\n",
    "\n",
    "\n",
    "\n",
    "\n",
    "\n",
    "\n"
   ]
  },
  {
   "cell_type": "code",
   "execution_count": null,
   "metadata": {
    "collapsed": true
   },
   "outputs": [],
   "source": []
  },
  {
   "cell_type": "code",
   "execution_count": null,
   "metadata": {
    "collapsed": true
   },
   "outputs": [],
   "source": []
  },
  {
   "cell_type": "markdown",
   "metadata": {},
   "source": [
    "# Model Training\n",
    "\n",
    "Here comes the model training"
   ]
  },
  {
   "cell_type": "code",
   "execution_count": null,
   "metadata": {
    "collapsed": false
   },
   "outputs": [
    {
     "name": "stdout",
     "output_type": "stream",
     "text": [
      "WARNING:tensorflow:From <ipython-input-4-0f90146f6c00>:2 in <module>.: initialize_all_variables (from tensorflow.python.ops.variables) is deprecated and will be removed after 2017-03-02.\n",
      "Instructions for updating:\n",
      "Use `tf.global_variables_initializer` instead.\n",
      "(12, 64, 64, 64, 1)\n"
     ]
    }
   ],
   "source": [
    "with tf.Session() as sess:\n",
    "    sess.run(tf.initialize_all_variables())\n",
    "    \n",
    "    batch_x, batch_y = get_batch(BATCH_SIZE,0)\n",
    "    print(batch_x.shape)\n",
    "    feed_dict = {\n",
    "        x: batch_x.astype(np.float32),\n",
    "        y: batch_y.astype(np.float32)\n",
    "    }\n",
    "    for i in range(20):\n",
    "        \n",
    "        loss, _ = sess.run([loss, train_step], feed_dict=feed_dict)\n",
    "        print(\"Loss is: %.2f\" % loss)\n",
    "    \n",
    "        \n",
    "    \n",
    "    "
   ]
  }
 ],
 "metadata": {
  "anaconda-cloud": {},
  "kernelspec": {
   "display_name": "Python [conda env:tensorflow]",
   "language": "python",
   "name": "conda-env-tensorflow-py"
  },
  "language_info": {
   "codemirror_mode": {
    "name": "ipython",
    "version": 3
   },
   "file_extension": ".py",
   "mimetype": "text/x-python",
   "name": "python",
   "nbconvert_exporter": "python",
   "pygments_lexer": "ipython3",
   "version": "3.5.2"
  }
 },
 "nbformat": 4,
 "nbformat_minor": 1
}
