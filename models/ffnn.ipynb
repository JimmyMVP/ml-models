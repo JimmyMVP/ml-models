{
 "cells": [
  {
   "cell_type": "code",
   "execution_count": 1,
   "metadata": {
    "collapsed": false
   },
   "outputs": [],
   "source": [
    "import tensorflow as tf\n",
    "import numpy as np\n"
   ]
  },
  {
   "cell_type": "code",
   "execution_count": 43,
   "metadata": {
    "collapsed": false
   },
   "outputs": [],
   "source": [
    "#Artificial dataset, lets say XOR\n",
    "def xor():\n",
    "    X = np.array([[0,1], [1,0], [1,1],[0,0]], dtype=float)\n",
    "    Y = np.array([1,1,0,0], dtype=float).reshape((-1,1))\n",
    "    return X,Y\n",
    "\n",
    "def square_function():\n",
    "    X = []\n",
    "    Y = []\n",
    "    for x in range(10):\n",
    "        X.append(x)\n",
    "        Y.append(x**2)\n",
    "    return np.array(X,dtype=np.float32).reshape(-1,1),np.array(Y, dtype=np.float32).reshape(-1,1)\n",
    "        "
   ]
  },
  {
   "cell_type": "code",
   "execution_count": 32,
   "metadata": {
    "collapsed": false
   },
   "outputs": [],
   "source": [
    "tf.nn.dropout?\n"
   ]
  },
  {
   "cell_type": "markdown",
   "metadata": {},
   "source": [
    "# Define the neural network layers here"
   ]
  },
  {
   "cell_type": "code",
   "execution_count": 44,
   "metadata": {
    "collapsed": false
   },
   "outputs": [
    {
     "name": "stdout",
     "output_type": "stream",
     "text": [
      "(?, 20)\n",
      "(?, 20)\n",
      "(?, 20)\n",
      "(?, 1)\n"
     ]
    }
   ],
   "source": [
    "#input\n",
    "\n",
    "X,Y = square_function()\n",
    "\n",
    "batch_size = 10\n",
    "\n",
    "#Helper functions\n",
    "def fully_connected(x, size, activation=tf.nn.relu):\n",
    "    b = tf.Variable(tf.zeros([size]))\n",
    "    weights = tf.Variable(tf.truncated_normal([x.get_shape()[1].value, size]))\n",
    "    return activation(b + tf.matmul(x, weights))\n",
    "\n",
    "\n",
    "\n",
    "INPUT_SHAPE = X.shape\n",
    "\n",
    "inputLayer = tf.placeholder(\"float\", [None,1])\n",
    "y = tf.placeholder(\"float\", [None,1])\n",
    "\n",
    "#simple neural network to solve the xor problem\n",
    "\n",
    "h1 = fully_connected(inputLayer, 20, activation=tf.nn.tanh)\n",
    "print(h1.get_shape())\n",
    "\n",
    "h2 = fully_connected(h1, 20)\n",
    "print(h2.get_shape())\n",
    "\n",
    "h3 = fully_connected(h2, 10)\n",
    "print(h2.get_shape())\n",
    "\n",
    "out = fully_connected(tf.nn.dropout(h2, 0.5), 1)\n",
    "print(out.get_shape())\n",
    "\n",
    "loss = tf.reduce_mean((out-y)**2)\n",
    "\n",
    "optimizer = tf.train.AdamOptimizer(0.1)\n",
    "train_step = optimizer.minimize(loss)\n",
    "\n"
   ]
  },
  {
   "cell_type": "markdown",
   "metadata": {},
   "source": [
    "# Run the session"
   ]
  },
  {
   "cell_type": "code",
   "execution_count": null,
   "metadata": {
    "collapsed": false,
    "scrolled": false
   },
   "outputs": [
    {
     "name": "stdout",
     "output_type": "stream",
     "text": [
      "0. Epoch Loss: 1506.7568 \n",
      "40. Epoch Loss: 247.9458 \n",
      "80. Epoch Loss: 217.9156 \n",
      "120. Epoch Loss: 228.2712 \n",
      "160. Epoch Loss: 45.8928 \n",
      "200. Epoch Loss: 332.6324 \n",
      "240. Epoch Loss: 36.5482 \n",
      "280. Epoch Loss: 173.1693 \n",
      "320. Epoch Loss: 25.0636 \n",
      "360. Epoch Loss: 66.0645 \n",
      "400. Epoch Loss: 125.2563 \n",
      "440. Epoch Loss: 307.2733 \n",
      "480. Epoch Loss: 78.0540 \n",
      "520. Epoch Loss: 105.8713 \n",
      "560. Epoch Loss: 93.9903 \n",
      "600. Epoch Loss: 70.7353 \n",
      "640. Epoch Loss: 126.9989 \n",
      "680. Epoch Loss: 70.0545 \n",
      "720. Epoch Loss: 125.7062 \n",
      "760. Epoch Loss: 453.7173 \n",
      "800. Epoch Loss: 183.9224 \n",
      "840. Epoch Loss: 54.7535 \n",
      "880. Epoch Loss: 93.4284 \n",
      "920. Epoch Loss: 156.8072 \n"
     ]
    }
   ],
   "source": [
    "init =  tf.initialize_all_variables()\n",
    "\n",
    "num_epochs=1000\n",
    "\n",
    "with tf.Session() as sess:\n",
    "    \n",
    "    sess.run(init)\n",
    "    \n",
    "    for epoch in range(num_epochs):\n",
    "        for batch in range(X.shape[0]//batch_size):\n",
    "            feed_dict = {\n",
    "                inputLayer : X[batch*batch_size:batch*batch_size + batch_size],\n",
    "                y : Y[batch*batch_size:batch*batch_size+batch_size]\n",
    "            }\n",
    "            _, lossVal = sess.run([train_step, loss], feed_dict=feed_dict)\n",
    "        if(epoch%40 == 0):\n",
    "            print(\"%d. Epoch Loss: %.4f \"  %(epoch, lossVal))\n",
    "        correct_prediction = tf.equal(tf.argmax(out, 1), tf.argmax(y, 1))\n",
    "        accuracy = tf.reduce_mean(tf.cast(correct_prediction, \"float\"))\n"
   ]
  },
  {
   "cell_type": "code",
   "execution_count": null,
   "metadata": {
    "collapsed": true
   },
   "outputs": [],
   "source": []
  },
  {
   "cell_type": "code",
   "execution_count": null,
   "metadata": {
    "collapsed": true
   },
   "outputs": [],
   "source": []
  },
  {
   "cell_type": "code",
   "execution_count": null,
   "metadata": {
    "collapsed": true
   },
   "outputs": [],
   "source": []
  },
  {
   "cell_type": "code",
   "execution_count": null,
   "metadata": {
    "collapsed": true
   },
   "outputs": [],
   "source": []
  }
 ],
 "metadata": {
  "anaconda-cloud": {},
  "kernelspec": {
   "display_name": "Python [conda env:tensorflow]",
   "language": "python",
   "name": "conda-env-tensorflow-py"
  },
  "language_info": {
   "codemirror_mode": {
    "name": "ipython",
    "version": 3
   },
   "file_extension": ".py",
   "mimetype": "text/x-python",
   "name": "python",
   "nbconvert_exporter": "python",
   "pygments_lexer": "ipython3",
   "version": "3.5.2"
  }
 },
 "nbformat": 4,
 "nbformat_minor": 1
}
