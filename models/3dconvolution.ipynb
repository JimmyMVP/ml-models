{
 "cells": [
  {
   "cell_type": "code",
   "execution_count": 1,
   "metadata": {
    "collapsed": true
   },
   "outputs": [],
   "source": [
    "import tensorflow as tf\n",
    "import numpy as np\n"
   ]
  },
  {
   "cell_type": "code",
   "execution_count": 2,
   "metadata": {
    "collapsed": true
   },
   "outputs": [],
   "source": [
    "np.random.normal?"
   ]
  },
  {
   "cell_type": "code",
   "execution_count": 3,
   "metadata": {
    "collapsed": true
   },
   "outputs": [],
   "source": [
    "\n",
    "def point_clouds_annotated(s):\n",
    "    X=np.random.normal(size=s)\n",
    "    s[-1]=1\n",
    "    Y=np.random.choice([0,1], size=s)\n",
    "    return X,Y\n",
    "\n",
    "def point_clouds_classified(s):\n",
    "    X=np.random.normal(size=s)\n",
    "    Y=np.random.choice([0,1], size=(s[0],1))\n",
    "    return X,Y"
   ]
  },
  {
   "cell_type": "code",
   "execution_count": null,
   "metadata": {
    "collapsed": false
   },
   "outputs": [],
   "source": []
  },
  {
   "cell_type": "code",
   "execution_count": 21,
   "metadata": {
    "collapsed": true
   },
   "outputs": [],
   "source": [
    "\n",
    "\"\"\"\n",
    "    Default stride size is filterSize, which means no overlapping.\n",
    "\"\"\"\n",
    "def conv3d(x, numFilters, filterSize, stride=False, padding='VALID'):\n",
    "    if(not stride):\n",
    "        stride = filterSize\n",
    "    inChannels = x.get_shape()[-1].value\n",
    "    #The filter weights must be of the form (width, height, depth, channels, outputChannels[numberOfFilters])\n",
    "    filter=tf.Variable(tf.truncated_normal(shape=[3,3,3,inChannels,numFilters], dtype=tf.float32))\n",
    "    return tf.nn.conv3d(input=x, filter=filter, \\\n",
    "                        strides=[1,stride,stride,stride,1], padding=padding)\n",
    "\n",
    "\n"
   ]
  },
  {
   "cell_type": "code",
   "execution_count": 22,
   "metadata": {
    "collapsed": false
   },
   "outputs": [
    {
     "name": "stdout",
     "output_type": "stream",
     "text": [
      "(20, 16, 16, 16, 4)\n",
      "(20, 16, 16, 16, 1)\n",
      "(?, 7, 7, 7, 20)\n",
      "(?, 3, 3, 3, 20)\n"
     ]
    }
   ],
   "source": [
    "X,Y = point_clouds_annotated(s=np.array([20,16,16,16,4]))\n",
    "\n",
    "print(X.shape)\n",
    "print(Y.shape)\n",
    "\n",
    "s = shape=[None, X.shape[1], X.shape[2], X.shape[3], X.shape[4]]\n",
    "\n",
    "\n",
    "x = tf.placeholder(dtype=tf.float32, shape=s)\n",
    "s[-1] = 1\n",
    "y = tf.placeholder(dtype=tf.float32, shape=s)\n",
    "\n",
    "conv1 = conv3d(x, 20, 4, stride=2)\n",
    "print(conv1.get_shape())\n",
    "conv2 = conv3d(conv1, 20, 2, stride=2)\n",
    "print(conv2.get_shape())\n",
    "\n",
    "\n",
    "init = tf.initialize_all_variables()\n",
    "\n",
    "\n",
    "with tf.Session() as sess:\n",
    "    \n",
    "    sess.run(init)\n",
    "    feed_dict = {\n",
    "        x: X,\n",
    "        y: Y\n",
    "    }\n",
    "    \n",
    "    \n",
    "    res = sess.run(conv1, feed_dict=feed_dict)\n",
    "    sess.close()\n",
    "    #print(res)\n",
    "    \n",
    "\n",
    "\n",
    "\n"
   ]
  }
 ],
 "metadata": {
  "anaconda-cloud": {},
  "kernelspec": {
   "display_name": "Python 3",
   "language": "python",
   "name": "python3"
  },
  "language_info": {
   "codemirror_mode": {
    "name": "ipython",
    "version": 3
   },
   "file_extension": ".py",
   "mimetype": "text/x-python",
   "name": "python",
   "nbconvert_exporter": "python",
   "pygments_lexer": "ipython3",
   "version": "3.5.2"
  }
 },
 "nbformat": 4,
 "nbformat_minor": 1
}
